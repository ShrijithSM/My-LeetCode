{
 "cells": [
  {
   "cell_type": "markdown",
   "metadata": {},
   "source": [
    "121. Best Time to Buy and Sell Stock"
   ]
  },
  {
   "cell_type": "code",
   "execution_count": 3,
   "metadata": {},
   "outputs": [
    {
     "name": "stdout",
     "output_type": "stream",
     "text": [
      "5\n"
     ]
    }
   ],
   "source": [
    "def max_profit(prices):\n",
    "    min_price = float('inf')\n",
    "    max_profit = 0\n",
    "    \n",
    "    for price in prices:\n",
    "        if price < min_price:\n",
    "            min_price = price\n",
    "        elif price - min_price > max_profit:\n",
    "            max_profit = price - min_price\n",
    "    \n",
    "    return max_profit\n",
    "\n",
    "prices = [7, 1, 5, 3, 6, 4]\n",
    "print(max_profit(prices))"
   ]
  },
  {
   "cell_type": "markdown",
   "metadata": {},
   "source": [
    "217. Contains Duplicate"
   ]
  },
  {
   "cell_type": "code",
   "execution_count": 5,
   "metadata": {},
   "outputs": [
    {
     "name": "stdout",
     "output_type": "stream",
     "text": [
      "True\n"
     ]
    }
   ],
   "source": [
    "def containsDuplicate(nums):\n",
    "    for i in nums:\n",
    "        if nums.count(i) > 1:\n",
    "            return True\n",
    "        \n",
    "        else:\n",
    "            return False\n",
    "        \n",
    "print(containsDuplicate([1,2,3,1]))\n",
    "\n",
    "# or \n",
    "\n",
    "def containsDuplicate(nums):\n",
    "    nums.sort()\n",
    "    for i in range(1, len(nums)):\n",
    "        if nums[i] == nums[i - 1]:\n",
    "            return True\n",
    "    return False"
   ]
  },
  {
   "cell_type": "markdown",
   "metadata": {},
   "source": [
    "2. Add Two Numbers\n",
    "\n",
    "- Input: l1 = [2,4,3], l2 = [5,6,4]\n",
    "- Output: [7,0,8]\n",
    "- Explanation: 342 + 465 = 807."
   ]
  },
  {
   "cell_type": "code",
   "execution_count": 12,
   "metadata": {},
   "outputs": [
    {
     "name": "stdout",
     "output_type": "stream",
     "text": [
      "[8, 0, 7]\n"
     ]
    }
   ],
   "source": [
    "\n",
    "\n",
    "def addTwoNumbers(l1, l2):\n",
    "    a = l1[::-1]\n",
    "    b = l2[::-1]\n",
    "\n",
    "    s = []\n",
    "    res1 = int(\"\".join(map(str, a)))\n",
    "    res2 = int(\"\".join(map(str, b)))\n",
    "\n",
    "    new = res1+res2\n",
    "\n",
    "    res = list(map(int, str(new)))\n",
    "    return res\n",
    "\n",
    "\n",
    "    \n",
    "\n",
    "print(addTwoNumbers(l1 = [2,4,3], l2 = [5,6,4]))\n"
   ]
  },
  {
   "cell_type": "markdown",
   "metadata": {},
   "source": [
    "1480. Running Sum of 1d Array\n"
   ]
  },
  {
   "cell_type": "code",
   "execution_count": 5,
   "metadata": {},
   "outputs": [
    {
     "name": "stdout",
     "output_type": "stream",
     "text": [
      "[1, 2, 4, 7, 11]\n"
     ]
    }
   ],
   "source": [
    "def runningSum(nums):\n",
    "    new = []\n",
    "    new.append(nums[0])\n",
    "    for i in nums:\n",
    "        if i == 0:\n",
    "            new.append(i)\n",
    "        else:\n",
    "            new.append(new[-1] + i)\n",
    "\n",
    "\n",
    "    return new\n",
    "\n",
    "print(runningSum([1,2,3,4]))"
   ]
  },
  {
   "cell_type": "code",
   "execution_count": 8,
   "metadata": {},
   "outputs": [
    {
     "name": "stdout",
     "output_type": "stream",
     "text": [
      "[1, 2, 3]\n",
      "[4, 5, 6]\n",
      "[7, 8, 9]\n"
     ]
    }
   ],
   "source": [
    "l = [[1,2,3],[4,5,6],[7,8,9]]\n",
    "\n",
    "for i in l:\n",
    "    print (i)"
   ]
  },
  {
   "cell_type": "markdown",
   "metadata": {},
   "source": [
    "468. Validate IP Address\n"
   ]
  },
  {
   "cell_type": "code",
   "execution_count": 4,
   "metadata": {},
   "outputs": [
    {
     "name": "stdout",
     "output_type": "stream",
     "text": [
      "IPv4\n"
     ]
    }
   ],
   "source": [
    "class Solution(object):\n",
    "    def validIPAddress(self, queryIP):\n",
    "            if \".\" in address:\n",
    "                nums = address.split(\".\")\n",
    "            else:   \n",
    "                nums = address.split(\":\")   \n",
    "        # nums = queryIP.split(\".\") if \".\" in address else address.split(\":\")\n",
    "            ints = [int(x) for x in nums]\n",
    "            if len(ints) != 4:\n",
    "                return False\n",
    "            elif len(ints) == 4:\n",
    "                for i in ints:\n",
    "                    if i < 0 or i > 255:\n",
    "                        return False\n",
    "                    else:\n",
    "                        return \"IPv4\"\n",
    "            elif len(ints) == 8:\n",
    "                for i in ints:\n",
    "                    if i < 0 or i > 255:\n",
    "                        return False\n",
    "                    else:\n",
    "                        return \"IPv6\"\n",
    "                    \n",
    "            else:\n",
    "                return False\n",
    "            \n",
    "print(Ip(\"172.16.254.1\"))\n"
   ]
  },
  {
   "cell_type": "markdown",
   "metadata": {},
   "source": [
    "Input: num = 14\n",
    "Output: 6\n",
    "Explanation: \n",
    "Step 1) 14 is even; divide by 2 and obtain 7. \n",
    "Step 2) 7 is odd; subtract 1 and obtain 6.\n",
    "Step 3) 6 is even; divide by 2 and obtain 3. \n",
    "Step 4) 3 is odd; subtract 1 and obtain 2. \n",
    "Step 5) 2 is even; divide by 2 and obtain 1. \n",
    "Step 6) 1 is odd; subtract 1 and obtain 0."
   ]
  },
  {
   "cell_type": "code",
   "execution_count": 3,
   "metadata": {},
   "outputs": [
    {
     "ename": "KeyboardInterrupt",
     "evalue": "",
     "output_type": "error",
     "traceback": [
      "\u001b[0;31m---------------------------------------------------------------------------\u001b[0m",
      "\u001b[0;31mKeyboardInterrupt\u001b[0m                         Traceback (most recent call last)",
      "Cell \u001b[0;32mIn[3], line 12\u001b[0m\n\u001b[1;32m      9\u001b[0m             step\u001b[38;5;241m+\u001b[39m\u001b[38;5;241m=\u001b[39m\u001b[38;5;241m1\u001b[39m\n\u001b[1;32m     10\u001b[0m     \u001b[38;5;28;01mreturn\u001b[39;00m step\n\u001b[0;32m---> 12\u001b[0m \u001b[38;5;28mprint\u001b[39m(\u001b[43mnumberOfSteps\u001b[49m\u001b[43m(\u001b[49m\u001b[38;5;241;43m14\u001b[39;49m\u001b[43m)\u001b[49m)\n",
      "Cell \u001b[0;32mIn[3], line 3\u001b[0m, in \u001b[0;36mnumberOfSteps\u001b[0;34m(num)\u001b[0m\n\u001b[1;32m      1\u001b[0m \u001b[38;5;28;01mdef\u001b[39;00m \u001b[38;5;21mnumberOfSteps\u001b[39m(num):\n\u001b[1;32m      2\u001b[0m     step \u001b[38;5;241m=\u001b[39m \u001b[38;5;241m0\u001b[39m\n\u001b[0;32m----> 3\u001b[0m     \u001b[38;5;28;01mwhile\u001b[39;00m num\u001b[38;5;241m!=\u001b[39m\u001b[38;5;241m0\u001b[39m:\n\u001b[1;32m      4\u001b[0m         \u001b[38;5;28;01mif\u001b[39;00m num\u001b[38;5;241m%\u001b[39m\u001b[38;5;241m2\u001b[39m\u001b[38;5;241m==\u001b[39m\u001b[38;5;241m0\u001b[39m:\n\u001b[1;32m      5\u001b[0m             num\u001b[38;5;241m/\u001b[39m\u001b[38;5;241m2\u001b[39m\n",
      "\u001b[0;31mKeyboardInterrupt\u001b[0m: "
     ]
    }
   ],
   "source": [
    "\n",
    "def numberOfSteps(num):\n",
    "    step = 0\n",
    "    while num!=0:\n",
    "        if num%2==0:\n",
    "            num/2\n",
    "            step+=1\n",
    "        else:\n",
    "            num-=1\n",
    "            step+=1\n",
    "    return step\n",
    "\n",
    "print(numberOfSteps(14))\n",
    "        "
   ]
  },
  {
   "cell_type": "code",
   "execution_count": 4,
   "metadata": {},
   "outputs": [
    {
     "name": "stdout",
     "output_type": "stream",
     "text": [
      "3\n"
     ]
    }
   ],
   "source": [
    "#majority element\n",
    "\n",
    "def majorityElement(nums):\n",
    "    nums.sort()\n",
    "    return nums[len(nums)//2]\n",
    "\n",
    "print(majorityElement([3,2,3]))"
   ]
  },
  {
   "cell_type": "code",
   "execution_count": 5,
   "metadata": {},
   "outputs": [
    {
     "name": "stdout",
     "output_type": "stream",
     "text": [
      "[5, 6, 7, 1, 2, 3, 4]\n"
     ]
    }
   ],
   "source": [
    "def rotate(nums, k):\n",
    "    \"\"\"\n",
    "    :type nums: List[int]\n",
    "    :type k: int\n",
    "    :rtype: None Do not return anything, modify nums in-place instead.\n",
    "    \"\"\"\n",
    "    k = k % len(nums)\n",
    "    nums[:] = nums[-k:] + nums[:-k]\n",
    "    return nums\n",
    "\n",
    "print(rotate([1,2,3,4,5,6,7], 3))\n",
    "    "
   ]
  },
  {
   "cell_type": "markdown",
   "metadata": {},
   "source": [
    "Input: l1 = [2,4,3], l2 = [5,6,4]\n",
    "Output: [7,0,8]\n",
    "Explanation: 342 + 465 = 807."
   ]
  },
  {
   "cell_type": "code",
   "execution_count": 6,
   "metadata": {},
   "outputs": [
    {
     "name": "stdout",
     "output_type": "stream",
     "text": [
      "[1, 2, 3]\n"
     ]
    }
   ],
   "source": [
    "def addTwoNumbers(l1, l2):\n",
    "    n1 = f\"{l1}\"\n",
    "    # for i in l1:\n",
    "    #     n1.insert(i)\n",
    "    print(n1)\n",
    "\n",
    "addTwoNumbers([1,2,3],[9,8,7])"
   ]
  },
  {
   "cell_type": "markdown",
   "metadata": {},
   "source": [
    "1768. Merge Strings Alternately\n",
    "Easy\n",
    "Topics\n",
    "Companies\n",
    "Hint\n",
    "\n",
    "You are given two strings word1 and word2. Merge the strings by adding letters in alternating order, starting with word1. If a string is longer than the other, append the additional letters onto the end of the merged string.\n",
    "\n",
    "Return the merged string."
   ]
  },
  {
   "cell_type": "code",
   "execution_count": 9,
   "metadata": {},
   "outputs": [
    {
     "data": {
      "text/plain": [
       "'abpapnlaena'"
      ]
     },
     "execution_count": 9,
     "metadata": {},
     "output_type": "execute_result"
    }
   ],
   "source": [
    "\n",
    "def mergeAlternately(word1, word2):\n",
    "    s = \"\"\n",
    "    i, j = 0, 0\n",
    "    while i < len(word1) or j < len(word2):\n",
    "        if i < len(word1):\n",
    "            s += word1[i]\n",
    "            i += 1\n",
    "        if j < len(word2):\n",
    "            s += word2[j]\n",
    "            j += 1\n",
    "    return s\n",
    "\n",
    "mergeAlternately(\"apple\",\"banana\")"
   ]
  }
 ],
 "metadata": {
  "kernelspec": {
   "display_name": "Python 3",
   "language": "python",
   "name": "python3"
  },
  "language_info": {
   "codemirror_mode": {
    "name": "ipython",
    "version": 3
   },
   "file_extension": ".py",
   "mimetype": "text/x-python",
   "name": "python",
   "nbconvert_exporter": "python",
   "pygments_lexer": "ipython3",
   "version": "3.12.7"
  }
 },
 "nbformat": 4,
 "nbformat_minor": 2
}
