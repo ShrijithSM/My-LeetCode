{
 "cells": [
  {
   "cell_type": "markdown",
   "metadata": {},
   "source": [
    "121. Best Time to Buy and Sell Stock"
   ]
  },
  {
   "cell_type": "code",
   "execution_count": null,
   "metadata": {},
   "outputs": [],
   "source": [
    "def max_profit(prices):\n",
    "    min_price = float('inf')\n",
    "    max_profit = 0\n",
    "    \n",
    "    for price in prices:\n",
    "        if price < min_price:\n",
    "            min_price = price\n",
    "        elif price - min_price > max_profit:\n",
    "            max_profit = price - min_price\n",
    "    \n",
    "    return max_profit\n",
    "\n",
    "prices = [7, 1, 5, 3, 6, 4]\n",
    "print(max_profit(prices))"
   ]
  },
  {
   "cell_type": "markdown",
   "metadata": {},
   "source": [
    "217. Contains Duplicate"
   ]
  },
  {
   "cell_type": "code",
   "execution_count": null,
   "metadata": {},
   "outputs": [],
   "source": [
    "def containsDuplicate(nums):\n",
    "    for i in nums:\n",
    "        if nums.count(i) > 1:\n",
    "            return True\n",
    "        \n",
    "        else:\n",
    "            return False\n",
    "        \n",
    "print(containsDuplicate([1,2,3,1]))\n",
    "\n",
    "# or \n",
    "\n",
    "def containsDuplicate(nums):\n",
    "    nums.sort()\n",
    "    for i in range(1, len(nums)):\n",
    "        if nums[i] == nums[i - 1]:\n",
    "            return True\n",
    "    return False"
   ]
  },
  {
   "cell_type": "markdown",
   "metadata": {},
   "source": [
    "2. Add Two Numbers\n",
    "\n",
    "- Input: l1 = [2,4,3], l2 = [5,6,4]\n",
    "- Output: [7,0,8]\n",
    "- Explanation: 342 + 465 = 807."
   ]
  },
  {
   "cell_type": "code",
   "execution_count": null,
   "metadata": {},
   "outputs": [],
   "source": [
    "\n",
    "\n",
    "def addTwoNumbers(l1, l2):\n",
    "    a = l1[::-1]\n",
    "    b = l2[::-1]\n",
    "\n",
    "    s = []\n",
    "    res1 = int(\"\".join(map(str, a)))\n",
    "    res2 = int(\"\".join(map(str, b)))\n",
    "\n",
    "    new = res1+res2\n",
    "\n",
    "    res = list(map(int, str(new)))\n",
    "    return res\n",
    "\n",
    "\n",
    "    \n",
    "\n",
    "print(addTwoNumbers(l1 = [2,4,3], l2 = [5,6,4]))\n"
   ]
  },
  {
   "cell_type": "markdown",
   "metadata": {},
   "source": [
    "1480. Running Sum of 1d Array\n"
   ]
  },
  {
   "cell_type": "code",
   "execution_count": null,
   "metadata": {},
   "outputs": [],
   "source": [
    "def runningSum(nums):\n",
    "    new = []\n",
    "    new.append(nums[0])\n",
    "    for i in nums:\n",
    "        if i == 0:\n",
    "            new.append(i)\n",
    "        else:\n",
    "            new.append(new[-1] + i)\n",
    "\n",
    "\n",
    "    return new\n",
    "\n",
    "print(runningSum([1,2,3,4]))"
   ]
  },
  {
   "cell_type": "code",
   "execution_count": null,
   "metadata": {},
   "outputs": [],
   "source": [
    "l = [[1,2,3],[4,5,6],[7,8,9]]\n",
    "\n",
    "for i in l:\n",
    "    print (i)"
   ]
  },
  {
   "cell_type": "markdown",
   "metadata": {},
   "source": [
    "468. Validate IP Address\n"
   ]
  },
  {
   "cell_type": "code",
   "execution_count": null,
   "metadata": {},
   "outputs": [],
   "source": [
    "class Solution(object):\n",
    "    def validIPAddress(self, queryIP):\n",
    "            if \".\" in address:\n",
    "                nums = address.split(\".\")\n",
    "            else:   \n",
    "                nums = address.split(\":\")   \n",
    "        # nums = queryIP.split(\".\") if \".\" in address else address.split(\":\")\n",
    "            ints = [int(x) for x in nums]\n",
    "            if len(ints) != 4:\n",
    "                return False\n",
    "            elif len(ints) == 4:\n",
    "                for i in ints:\n",
    "                    if i < 0 or i > 255:\n",
    "                        return False\n",
    "                    else:\n",
    "                        return \"IPv4\"\n",
    "            elif len(ints) == 8:\n",
    "                for i in ints:\n",
    "                    if i < 0 or i > 255:\n",
    "                        return False\n",
    "                    else:\n",
    "                        return \"IPv6\"\n",
    "                    \n",
    "            else:\n",
    "                return False\n",
    "            \n",
    "print(Ip(\"172.16.254.1\"))\n"
   ]
  },
  {
   "cell_type": "markdown",
   "metadata": {},
   "source": [
    "Input: num = 14\n",
    "Output: 6\n",
    "Explanation: \n",
    "Step 1) 14 is even; divide by 2 and obtain 7. \n",
    "Step 2) 7 is odd; subtract 1 and obtain 6.\n",
    "Step 3) 6 is even; divide by 2 and obtain 3. \n",
    "Step 4) 3 is odd; subtract 1 and obtain 2. \n",
    "Step 5) 2 is even; divide by 2 and obtain 1. \n",
    "Step 6) 1 is odd; subtract 1 and obtain 0."
   ]
  },
  {
   "cell_type": "code",
   "execution_count": null,
   "metadata": {},
   "outputs": [],
   "source": [
    "\n",
    "def numberOfSteps(num):\n",
    "    step = 0\n",
    "    while num!=0:\n",
    "        if num%2==0:\n",
    "            num/2\n",
    "            step+=1\n",
    "        else:\n",
    "            num-=1\n",
    "            step+=1\n",
    "    return step\n",
    "\n",
    "print(numberOfSteps(14))\n",
    "        "
   ]
  },
  {
   "cell_type": "code",
   "execution_count": null,
   "metadata": {},
   "outputs": [],
   "source": [
    "#majority element\n",
    "\n",
    "def majorityElement(nums):\n",
    "    nums.sort()\n",
    "    return nums[len(nums)//2]\n",
    "\n",
    "print(majorityElement([3,2,3]))"
   ]
  },
  {
   "cell_type": "code",
   "execution_count": null,
   "metadata": {},
   "outputs": [],
   "source": [
    "def rotate(nums, k):\n",
    "    \"\"\"\n",
    "    :type nums: List[int]\n",
    "    :type k: int\n",
    "    :rtype: None Do not return anything, modify nums in-place instead.\n",
    "    \"\"\"\n",
    "    k = k % len(nums)\n",
    "    nums[:] = nums[-k:] + nums[:-k]\n",
    "    return nums\n",
    "\n",
    "print(rotate([1,2,3,4,5,6,7], 3))\n",
    "    "
   ]
  },
  {
   "cell_type": "markdown",
   "metadata": {},
   "source": [
    "Input: l1 = [2,4,3], l2 = [5,6,4]\n",
    "Output: [7,0,8]\n",
    "Explanation: 342 + 465 = 807."
   ]
  },
  {
   "cell_type": "code",
   "execution_count": null,
   "metadata": {},
   "outputs": [],
   "source": [
    "def addTwoNumbers(l1, l2):\n",
    "    n1 = f\"{l1}\"\n",
    "    # for i in l1:\n",
    "    #     n1.insert(i)\n",
    "    print(n1)\n",
    "\n",
    "addTwoNumbers([1,2,3],[9,8,7])"
   ]
  },
  {
   "cell_type": "markdown",
   "metadata": {},
   "source": [
    "1768. Merge Strings Alternately\n",
    "Easy\n",
    "Topics\n",
    "Companies\n",
    "Hint\n",
    "\n",
    "You are given two strings word1 and word2. Merge the strings by adding letters in alternating order, starting with word1. If a string is longer than the other, append the additional letters onto the end of the merged string.\n",
    "\n",
    "Return the merged string."
   ]
  },
  {
   "cell_type": "code",
   "execution_count": null,
   "metadata": {},
   "outputs": [],
   "source": [
    "\n",
    "def mergeAlternately(word1, word2):\n",
    "    s = \"\"\n",
    "    i, j = 0, 0\n",
    "    while i < len(word1) or j < len(word2):\n",
    "        if i < len(word1):\n",
    "            s += word1[i]\n",
    "            i += 1\n",
    "        if j < len(word2):\n",
    "            s += word2[j]\n",
    "            j += 1\n",
    "    return s\n",
    "\n",
    "mergeAlternately(\"apple\",\"banana\")"
   ]
  },
  {
   "cell_type": "code",
   "execution_count": null,
   "metadata": {},
   "outputs": [],
   "source": [
    "\n",
    "def findTheDifference(s, t):\n",
    "    s = list(s)\n",
    "    t =  list(t)\n",
    "    for i in t:\n",
    "        if i not in s:\n",
    "            return i\n",
    "        else:\n",
    "            s.remove(i)\n",
    "\n",
    "print(findTheDifference(\"a\",\"aa\"))"
   ]
  },
  {
   "cell_type": "markdown",
   "metadata": {},
   "source": [
    "242. Valid Anagram\n",
    "Solved\n",
    "Easy\n",
    "Topics\n",
    "Companies\n",
    "\n",
    "Given two strings s and t, return true if t is an\n",
    "anagram\n",
    "of s, and false otherwise."
   ]
  },
  {
   "cell_type": "code",
   "execution_count": null,
   "metadata": {},
   "outputs": [],
   "source": [
    "def isAnagram(s, t):\n",
    "    return sorted(s) == sorted(t)\n",
    "\n",
    "print(isAnagram(\"anagram\", \"nagaram\"))\n"
   ]
  },
  {
   "cell_type": "markdown",
   "metadata": {},
   "source": [
    "Example 1:\n",
    "\n",
    "Input: s = \"abab\"\n",
    "Output: true\n",
    "Explanation: It is the substring \"ab\" twice.\n",
    "\n",
    "Example 2:\n",
    "\n",
    "Input: s = \"aba\"\n",
    "Output: false\n",
    "\n",
    "Example 3:\n",
    "\n",
    "Input: s = \"abcabcaby   cabc\"\n",
    "Output: true\n",
    "Explanation: It is the substring \"abc\" four times or the substring \"abcabc\" twice.\n"
   ]
  },
  {
   "cell_type": "code",
   "execution_count": null,
   "metadata": {},
   "outputs": [],
   "source": [
    "def repeatedSubstringPattern(s):\n",
    "    # return s in (s+s)[1:-1]\n",
    "    d = s+s\n",
    "    m = d[1:-1]\n",
    "    return s in m\n",
    "\n",
    "print(repeatedSubstringPattern(\"abab\"))"
   ]
  },
  {
   "cell_type": "code",
   "execution_count": null,
   "metadata": {},
   "outputs": [],
   "source": [
    "def moveZeroes(nums):\n",
    "    non_zero_index = 0\n",
    "    \n",
    "    for i in range(len(nums)):\n",
    "        if nums[i] != 0:\n",
    "            nums[non_zero_index] = nums[i]\n",
    "            non_zero_index += 1\n",
    "    \n",
    "    for i in range(non_zero_index, len(nums)):\n",
    "        nums[i] = 0\n",
    "    \n",
    "    return nums\n",
    "\n",
    "print(moveZeroes([0,1,0,3,12]))"
   ]
  },
  {
   "cell_type": "code",
   "execution_count": 1,
   "metadata": {},
   "outputs": [],
   "source": [
    "class Solution(object):\n",
    "    def wordSubsets(self, words1, words2):\n",
    "\n",
    "        count = collections.Counter()\n",
    "        for b in words2:\n",
    "            count |= collections.Counter(b)\n",
    "        return [a for a in words1 if not count - Counter(a)]"
   ]
  },
  {
   "cell_type": "code",
   "execution_count": null,
   "metadata": {},
   "outputs": [],
   "source": [
    "class Solution(object):\n",
    "    def plusOne(self, digits):\n",
    "        a = \"\"\n",
    "        for i in digits:\n",
    "            a += str(i)\n",
    "        b = int(a)+1\n",
    "        c = []\n",
    "        for i in str(b):\n",
    "            c.append(int(i))\n",
    "        return c"
   ]
  },
  {
   "cell_type": "code",
   "execution_count": null,
   "metadata": {},
   "outputs": [],
   "source": [
    "def plusOne(digits):\n",
    "    d = \"\"\n",
    "    for  i in digits:\n",
    "        d += str(i)\n",
    "    s = int(d)+1\n",
    "    n = []\n",
    "    for i in str(s):\n",
    "        n.append(int(i))\n",
    "    return n\n",
    "        \n",
    "\n",
    "plusOne([1,2,3])"
   ]
  },
  {
   "cell_type": "code",
   "execution_count": 1,
   "metadata": {},
   "outputs": [],
   "source": [
    "class Solution(object):\n",
    "    def arraySign(self, nums):\n",
    "        sign = 1\n",
    "\n",
    "        for num in nums:\n",
    "            if num == 0:\n",
    "                return 0\n",
    "            if num < 0:\n",
    "                sign = -sign\n",
    "\n",
    "        return sign"
   ]
  },
  {
   "cell_type": "code",
   "execution_count": null,
   "metadata": {},
   "outputs": [],
   "source": [
    "def canMakeArithmeticProgression(arr: list):\n",
    "    new = sorted(arr)\n",
    "    maxval = new[-1]\n",
    "    minval = new[0]\n",
    "    diff = (maxval - minval) / (len(new) - 1)\n",
    "    \n",
    "    # Check if diff is an integer\n",
    "    if diff % 1 != 0:\n",
    "        return False\n",
    "    \n",
    "    diff = int(diff)  # Convert to integer for further checks\n",
    "    \n",
    "    # Verify the progression\n",
    "    for i in range(1, len(new)):\n",
    "        if new[i] - new[i - 1] != diff:\n",
    "            return False\n",
    "    \n",
    "    return True\n"
   ]
  },
  {
   "cell_type": "code",
   "execution_count": 1,
   "metadata": {},
   "outputs": [],
   "source": [
    "class Solution(object):\n",
    "    def minimumLength(self, s):\n",
    "        return sum(1 if x % 2 else 2 for x in Counter(s).values())\n",
    "        "
   ]
  },
  {
   "cell_type": "code",
   "execution_count": null,
   "metadata": {},
   "outputs": [],
   "source": [
    "def judgeCircle(moves):\n",
    "    return moves.count('L') == moves.count('R') and moves.count('U') == moves.count('D')\n",
    "\n",
    "print(judgeCircle(\"LLURR\"))    "
   ]
  },
  {
   "cell_type": "markdown",
   "metadata": {},
   "source": [
    "682. Baseball Game\n",
    "Easy\n",
    "Topics\n",
    "Companies\n",
    "\n",
    "You are keeping the scores for a baseball game with strange rules. At the beginning of the game, you start with an empty record.\n",
    "\n",
    "You are given a list of strings operations, where operations[i] is the ith operation you must apply to the record and is one of the following:\n",
    "\n",
    "    An integer x.\n",
    "        Record a new score of x.\n",
    "    '+'.\n",
    "        Record a new score that is the sum of the previous two scores.\n",
    "    'D'.\n",
    "        Record a new score that is the double of the previous score.\n",
    "    'C'.\n",
    "        Invalidate the previous score, removing it from the record.\n",
    "\n",
    "Return the sum of all the scores on the record after applying all the operations.\n",
    "\n",
    "The test cases are generated such that the answer and all intermediate calculations fit in a 32-bit integer and that all operations are valid."
   ]
  },
  {
   "cell_type": "code",
   "execution_count": null,
   "metadata": {},
   "outputs": [],
   "source": [
    "def maximumWealth(accounts):\n",
    "    sums = []\n",
    "    for i in accounts:\n",
    "        "
   ]
  },
  {
   "cell_type": "markdown",
   "metadata": {},
   "source": [
    "Example 1:\n",
    "\n",
    "Input: ops = [\"5\",\"2\",\"C\",\"D\",\"+\"]\n",
    "Output: 30\n",
    "Explanation:\n",
    "\"5\" - Add 5 to the record, record is now [5].\n",
    "\"2\" - Add 2 to the record, record is now [5, 2].\n",
    "\"C\" - Invalidate and remove the previous score, record is now [5].\n",
    "\"D\" - Add 2 * 5 = 10 to the record, record is now [5, 10].\n",
    "\"+\" - Add 5 + 10 = 15 to the record, record is now [5, 10, 15].\n",
    "The total sum is 5 + 10 + 15 = 30.\n",
    "\n",
    "Example 2:\n",
    "\n",
    "Input: ops = [\"5\",\"-2\",\"4\",\"C\",\"D\",\"9\",\"+\",\"+\"]\n",
    "Output: 27\n",
    "Explanation:\n",
    "\"5\" - Add 5 to the record, record is now [5].\n",
    "\"-2\" - Add -2 to the record, record is now [5, -2].\n",
    "\"4\" - Add 4 to the record, record is now [5, -2, 4].\n",
    "\"C\" - Invalidate and remove the previous score, record is now [5, -2].\n",
    "\"D\" - Add 2 * -2 = -4 to the record, record is now [5, -2, -4].\n",
    "\"9\" - Add 9 to the record, record is now [5, -2, -4, 9].\n",
    "\"+\" - Add -4 + 9 = 5 to the record, record is now [5, -2, -4, 9, 5].\n",
    "\"+\" - Add 9 + 5 = 14 to the record, record is now [5, -2, -4, 9, 5, 14].\n",
    "The total sum is 5 + -2 + -4 + 9 + 5 + 14 = 27.\n",
    "\n",
    "Example 3:\n",
    "\n",
    "Input: ops = [\"1\",\"C\"]\n",
    "Output: 0\n",
    "Explanation:\n",
    "\"1\" - Add 1 to the record, record is now [1].\n",
    "\"C\" - Invalidate and remove the previous score, record is now [].\n",
    "Since the record is empty, the total sum is 0.\n",
    "\n",
    "\n",
    "    An integer x.\n",
    "        Record a new score of x.\n",
    "    '+'.\n",
    "        Record a new score that is the sum of the previous two scores.\n",
    "    'D'.\n",
    "        Record a new score that is the double of the previous score.\n",
    "    'C'.\n",
    "        Invalidate the previous score, removing it from the record.\n",
    "\n",
    "Return the sum of all the scores on the record after applying all the operations.\n",
    "\n",
    "The test cases are generated such that the answer and all intermediate calculations fit in a 32-bit integer and that all operations are valid.\n",
    "\n",
    " "
   ]
  },
  {
   "cell_type": "code",
   "execution_count": null,
   "metadata": {},
   "outputs": [],
   "source": [
    "# class Solution(object):\n",
    "def calPoints(operations):\n",
    "    l = []\n",
    "    for i in operations:\n",
    "        # print(type(i))\n",
    "        if i.isnumeric():\n",
    "            l.append(int(i))\n",
    "        elif i[0] == '-' and len(i)>1:\n",
    "            if i[1:].isdigit():\n",
    "                l.append(int(i))\n",
    "        elif i==\"+\":\n",
    "            l.append(l[-1]+l[-2])\n",
    "        elif i==\"D\":\n",
    "            l.append(l[-1]*2)\n",
    "        elif i==\"C\":\n",
    "            l.pop()\n",
    "\n",
    "    return sum(l)\n",
    "\n",
    "print(calPoints([\"5\",\"-2\",\"4\",\"C\",\"D\",\"9\",\"+\",\"+\"]))\n"
   ]
  },
  {
   "cell_type": "code",
   "execution_count": null,
   "metadata": {},
   "outputs": [],
   "source": [
    "def doesValidArrayExist(derived):\n",
    "    n = len(derived)\n",
    "    original = []\n",
    "\n",
    "    for i in range(n - 1):\n",
    "        original.append(derived[i] ^ derived[i + 1])\n",
    "\n",
    "\n",
    "    for j in range(2):\n",
    "        if j ^ original[0] == derived[-1]:\n",
    "            original.append(j)\n",
    "            if original[0] ^ original[1] == derived[0]:\n",
    "                return True\n",
    "    \n",
    "    return False\n",
    "\n",
    "\n",
    "print(doesValidArrayExist([1, 0]))"
   ]
  },
  {
   "cell_type": "code",
   "execution_count": null,
   "metadata": {},
   "outputs": [],
   "source": [
    "def lemonadeChange(bills: list) -> bool:\n",
    "    fives = 0\n",
    "    tens = 0\n",
    "\n",
    "    for bill in bills:\n",
    "        if bill == 5:\n",
    "            fives += 1\n",
    "        elif bill == 10:\n",
    "            if fives == 0:  # Cannot give change\n",
    "                return False\n",
    "            tens += 1\n",
    "            fives -= 1\n",
    "        elif bill == 20:\n",
    "            if tens > 0 and fives > 0:  # Use one $10 and one $5\n",
    "                tens -= 1\n",
    "                fives -= 1\n",
    "            elif fives >= 3:  # Use three $5 bills\n",
    "                fives -= 3\n",
    "            else:  # Cannot give change\n",
    "                return False\n",
    "\n",
    "    return True\n"
   ]
  },
  {
   "cell_type": "code",
   "execution_count": 1,
   "metadata": {},
   "outputs": [],
   "source": [
    "# select p.product_name, s.year, s.price from Sales s join Product p on s.product_id = p.product_id;"
   ]
  },
  {
   "cell_type": "code",
   "execution_count": null,
   "metadata": {
    "vscode": {
     "languageId": "sql"
    }
   },
   "outputs": [],
   "source": [
    "SELECT w1.id\n",
    "FROM weather w1\n",
    "JOIN weather w2 ON w1.record_date = DATE_ADD(w2.record_date, INTERVAL 1 DAY)\n",
    "WHERE w1.temperature > w2.temperature;"
   ]
  },
  {
   "cell_type": "code",
   "execution_count": 1,
   "metadata": {},
   "outputs": [],
   "source": [
    "def isRobotBounded(instructions):\n",
    "    # Initial direction is facing north (0, 1)\n",
    "    dirX, dirY = 0, 1\n",
    "    # Initial position is at the origin (0, 0)\n",
    "    x, y = 0, 0\n",
    "\n",
    "    # Iterate through each instruction\n",
    "    for i in instructions:\n",
    "        if i == \"G\":\n",
    "            # Move forward in the current direction\n",
    "            x, y = x + dirX, y + dirY\n",
    "        elif i == \"L\":\n",
    "            # Turn left: (x, y) -> (-y, x)\n",
    "            dirX, dirY = -1 * dirY, dirX\n",
    "        else:\n",
    "            # Turn right: (x, y) -> (y, -x)\n",
    "            dirX, dirY = dirY, -1 * dirX\n",
    "    \n",
    "    # The robot is bounded if it returns to the origin or is not facing north\n",
    "    return (x, y) == (0, 0) or (dirX, dirY) != (0, 1)"
   ]
  },
  {
   "cell_type": "code",
   "execution_count": null,
   "metadata": {},
   "outputs": [],
   "source": [
    "import pandas as pd\n",
    "\n",
    "def getDataframeSize(players: pd.DataFrame) -> List[int]:\n",
    "    return players.head(3)"
   ]
  }
 ],
 "metadata": {
  "kernelspec": {
   "display_name": "Python 3",
   "language": "python",
   "name": "python3"
  },
  "language_info": {
   "codemirror_mode": {
    "name": "ipython",
    "version": 3
   },
   "file_extension": ".py",
   "mimetype": "text/x-python",
   "name": "python",
   "nbconvert_exporter": "python",
   "pygments_lexer": "ipython3",
   "version": "3.12.8"
  }
 },
 "nbformat": 4,
 "nbformat_minor": 2
}
